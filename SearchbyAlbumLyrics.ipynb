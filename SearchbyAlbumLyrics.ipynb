{
 "cells": [
  {
   "cell_type": "code",
   "execution_count": 1,
   "metadata": {},
   "outputs": [],
   "source": [
    "# pip install lyricwikia\n",
    "# pip install access-spotify\n",
    "# pip install lyricsgenius"
   ]
  },
  {
   "cell_type": "code",
   "execution_count": 2,
   "metadata": {},
   "outputs": [],
   "source": [
    "from access_spotify.get_spotify_access import get_spotify_credentials\n",
    "from access_spotify.get_album_details import get_album_details\n",
    "from access_spotify.get_album_art import get_album_art\n",
    "from access_spotify.get_album_data import get_album_audio_analysis, get_album_audio_features\n",
    "import lyricwikia\n",
    "import lyricsgenius\n",
    "import numpy as np\n",
    "import json\n",
    "import pandas as pd"
   ]
  },
  {
   "cell_type": "code",
   "execution_count": 3,
   "metadata": {},
   "outputs": [],
   "source": [
    "# requries to input the spotify api CID and Csecret\n",
    "sp = get_spotify_credentials(client_id='a1fe4239619b4bdc893af31283a3373d', client_secret='2088a73074bc4f3c86ab2370c3c5094c')"
   ]
  },
  {
   "cell_type": "code",
   "execution_count": 4,
   "metadata": {},
   "outputs": [],
   "source": [
    "# requires to input the genius api token\n",
    "token = \"7HNLPpoSRfhrfG7rLRMS6AAyLUkFZslOd_ZI7vFvq-qRSTchoGO7OeIJA-fuiN5s\"\n",
    "genius = lyricsgenius.Genius(token)"
   ]
  },
  {
   "cell_type": "markdown",
   "metadata": {},
   "source": [
    "# Editing the allalbumlist to scrawl the rest of album info"
   ]
  },
  {
   "cell_type": "code",
   "execution_count": 5,
   "metadata": {},
   "outputs": [],
   "source": [
    "#inputting all the scrawled album into this list \n",
    "allalbumlist=[]"
   ]
  },
  {
   "cell_type": "code",
   "execution_count": 6,
   "metadata": {},
   "outputs": [
    {
     "name": "stdout",
     "output_type": "stream",
     "text": [
      "[]\n"
     ]
    }
   ],
   "source": [
    "# creating the new allput where all the deluxe version are filtered out, only the origional left\n",
    "output = []\n",
    "for x in allalbumlist:\n",
    "    if x not in output:\n",
    "        output.append(x)\n",
    "#print(output)\n",
    "\n",
    "matches = []\n",
    " \n",
    "for match in output:\n",
    "    if \"Deluxe\" in match:\n",
    "        matches.append(match)\n",
    "\n",
    "for rem in output:\n",
    "    if rem in matches:\n",
    "        output.remove(rem)\n",
    "print(output)"
   ]
  },
  {
   "cell_type": "code",
   "execution_count": 7,
   "metadata": {},
   "outputs": [],
   "source": [
    "# through the for loop, all the data are stored in seperate json files, in the file, we can see all information about the album including the lyrcis\n",
    "for i in output:\n",
    "    album = genius.search_album(i)\n",
    "    album.save_lyrics(extension='json')"
   ]
  },
  {
   "cell_type": "code",
   "execution_count": 71,
   "metadata": {},
   "outputs": [
    {
     "data": {
      "text/plain": [
       "[]"
      ]
     },
     "execution_count": 71,
     "metadata": {},
     "output_type": "execute_result"
    }
   ],
   "source": [
    "#creating a list of non-spaced album list that will use tracing back the json file we created\n",
    "output_withoutspace = []\n",
    "\n",
    "for i in output:\n",
    "\n",
    "    x=\"\".join(i.split())\n",
    "    x=x.replace(\"'\",'')\n",
    "    x=x.replace(\"(\",'')\n",
    "    x=x.replace(\")\",'')\n",
    "    x=x.replace(\"!\",'')\n",
    "    x=x.replace(\"*\",'.')\n",
    "    x=x.replace(\">\",'')\n",
    "    \n",
    "    output_withoutspace.append(x)\n",
    "\n",
    "output_withoutspace"
   ]
  },
  {
   "cell_type": "code",
   "execution_count": 13,
   "metadata": {},
   "outputs": [],
   "source": [
    "#filtering all the data information from single json file and combine them into a large dataframe\n",
    "artist_list = []\n",
    "year_list = []\n",
    "title_album_list = []\n",
    "title_song_list = []\n",
    "lyrics_list = []\n",
    "pageviews_list=[]\n",
    "annotation_count_list=[]\n",
    "\n",
    "\n",
    "for albumname in output_withoutspace:\n",
    "    with open(\"Lyrics_\"+albumname+'.json') as json_file:\n",
    "        data = json.load(json_file)\n",
    "        title_artist = data['artist']['name']\n",
    "        artist = data['artist']['name']\n",
    "        year = data['release_date_components']['year']\n",
    "        title_album=data['name']\n",
    "\n",
    "\n",
    "        for song in data['tracks']:\n",
    "            title_song = song['song']['full_title']\n",
    "            lyrics = song['song']['lyrics']\n",
    "            annotation_count=song['song']['annotation_count']\n",
    "            \n",
    "            \n",
    "            pageviewadd=song['song']['stats'][\"pageviews\"]\n",
    "            \n",
    "            \n",
    "            artist_list.append(title_artist)\n",
    "            year_list.append(str(year))\n",
    "            title_album_list.append(title_album)\n",
    "            title_song_list.append(title_song)\n",
    "            lyrics_list.append(lyrics)\n",
    "            pageviews_list.append(pageviewadd)\n",
    "            annotation_count_list.append(annotation_count)\n",
    "#\n",
    "\n",
    "df= pd.DataFrame({'artist': artist_list, 'year': year_list, 'title_song': title_song_list,'title_album':title_album_list,'lyrics':lyrics_list,'pageviews':pageviews_list,'contributed_times':annotation_count_list})\n",
    "\n",
    "df.to_csv(r'cleaned-lyricsinfo.csv')\n",
    "#if you don't want to have index before each row\n",
    "#df.to_csv(r'allthelyrics.csv', index = False) "
   ]
  },
  {
   "cell_type": "code",
   "execution_count": null,
   "metadata": {},
   "outputs": [],
   "source": []
  },
  {
   "cell_type": "markdown",
   "metadata": {},
   "source": [
    "# Checking bugs"
   ]
  },
  {
   "cell_type": "code",
   "execution_count": 70,
   "metadata": {},
   "outputs": [
    {
     "name": "stdout",
     "output_type": "stream",
     "text": [
      "Searching for \"I Am > I Was\"...\n",
      "Lyrics_iamiwasDeluxe.json already exists. Overwrite?\n",
      "(y/n): n\n",
      "Skipping file save.\n",
      "\n"
     ]
    }
   ],
   "source": [
    "\n",
    "album = genius.search_album(\"I Am > I Was\")\n",
    "album.save_lyrics(extension='json')\n"
   ]
  },
  {
   "cell_type": "code",
   "execution_count": 67,
   "metadata": {},
   "outputs": [
    {
     "data": {
      "text/plain": [
       "['Bad Vibes Forever',\n",
       " 'Bad Vibes Forever',\n",
       " '? (Deluxe)',\n",
       " 'XXXTENTACION Presents: Members Only, Vol. 4',\n",
       " 'SKINS',\n",
       " 'SKINS',\n",
       " '?',\n",
       " '17',\n",
       " 'XXXTENTACION Presents: Members Only, Vol. 3']"
      ]
     },
     "execution_count": 67,
     "metadata": {},
     "output_type": "execute_result"
    }
   ],
   "source": [
    "artist_name = ''\n",
    "album_names, album_name_uri_dict, album_img_url_dict = get_album_details(sp=sp, artist_name=artist_name)\n",
    "album_names"
   ]
  },
  {
   "cell_type": "code",
   "execution_count": null,
   "metadata": {},
   "outputs": [],
   "source": [
    "#list of album not found\n",
    "#17 \"Ludacris Presents...Disturbing Tha Peace\" need to change to \"Disturbing Tha Peace\"\n",
    "#20 \"Idlewild (Soundtrack)\" change to \"Idlewild\"\n",
    "#70 \"T*O*S (Terminate On Sight)\" change to \"T*O*S Terminate On Sight\"\n",
    "#83 \"Loso's Way (Soundtrack)\" change to \"Loso's Way\"\n",
    "# 172 delete \"Maybach Music Group Presents: Self Made: Vol. I\"\n",
    "# 328 delete \"?\"\n",
    "albumNotFound=[\"Ludacris Presents...Disturbing Tha Peace\",\"Idlewild (Soundtrack)\"]"
   ]
  }
 ],
 "metadata": {
  "kernelspec": {
   "display_name": "Python 3",
   "language": "python",
   "name": "python3"
  },
  "language_info": {
   "codemirror_mode": {
    "name": "ipython",
    "version": 3
   },
   "file_extension": ".py",
   "mimetype": "text/x-python",
   "name": "python",
   "nbconvert_exporter": "python",
   "pygments_lexer": "ipython3",
   "version": "3.8.5"
  }
 },
 "nbformat": 4,
 "nbformat_minor": 4
}
