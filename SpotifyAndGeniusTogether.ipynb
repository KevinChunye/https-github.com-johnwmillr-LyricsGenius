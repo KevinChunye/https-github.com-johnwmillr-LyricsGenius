{
 "cells": [
  {
   "cell_type": "code",
   "execution_count": 1,
   "metadata": {},
   "outputs": [],
   "source": [
    "# pip install lyricwikia\n",
    "# pip install access-spotify\n",
    "# pip install lyricsgenius"
   ]
  },
  {
   "cell_type": "markdown",
   "metadata": {},
   "source": [
    "# https://github.com/panchambanerjee/access_spotify"
   ]
  },
  {
   "cell_type": "code",
   "execution_count": 2,
   "metadata": {},
   "outputs": [],
   "source": [
    "from access_spotify.get_spotify_access import get_spotify_credentials\n",
    "from access_spotify.get_album_details import get_album_details\n",
    "from access_spotify.get_album_art import get_album_art\n",
    "from access_spotify.get_album_data import get_album_audio_analysis, get_album_audio_features\n",
    "import lyricwikia\n",
    "import lyricsgenius\n",
    "import numpy as np"
   ]
  },
  {
   "cell_type": "code",
   "execution_count": 3,
   "metadata": {},
   "outputs": [],
   "source": [
    "# requries to input the spotify api CID and Csecret\n",
    "sp = get_spotify_credentials(client_id='a1fe4239619b4bdc893af31283a3373d', client_secret='2088a73074bc4f3c86ab2370c3c5094c')"
   ]
  },
  {
   "cell_type": "code",
   "execution_count": 4,
   "metadata": {},
   "outputs": [],
   "source": [
    "# requires to input the genius api token\n",
    "token = \"7HNLPpoSRfhrfG7rLRMS6AAyLUkFZslOd_ZI7vFvq-qRSTchoGO7OeIJA-fuiN5s\"\n",
    "genius = lyricsgenius.Genius(token)"
   ]
  },
  {
   "cell_type": "code",
   "execution_count": 5,
   "metadata": {},
   "outputs": [],
   "source": [
    "#the only thing need to be changed, create a list with all rappers' name, and the following model can generate all the lyrics of all album of this rapper\n",
    "rapperlist=[\"Pusha-T\", \"Tyler, the Creator\",\"Nicki Minaj\", \"JAY-Z\",\"Travis Scott\", \"J. Cole\", \"Future\",\"Kanye West\",\"Kendrick Lamar\",\"Drake\"]"
   ]
  },
  {
   "cell_type": "code",
   "execution_count": 6,
   "metadata": {},
   "outputs": [
    {
     "data": {
      "text/plain": [
       "['Donda (Deluxe)',\n",
       " 'Donda',\n",
       " 'JESUS IS KING',\n",
       " 'KIDS SEE GHOSTS',\n",
       " 'ye',\n",
       " 'The Life Of Pablo',\n",
       " 'The Life Of Pablo',\n",
       " 'Yeezus',\n",
       " 'Kanye West Presents Good Music Cruel Summer',\n",
       " 'Watch The Throne (Deluxe)',\n",
       " 'Watch The Throne (Deluxe)',\n",
       " 'Watch The Throne (Deluxe)',\n",
       " 'Watch The Throne (Deluxe)',\n",
       " 'Watch The Throne',\n",
       " 'Watch The Throne',\n",
       " 'Watch The Throne',\n",
       " 'Watch The Throne',\n",
       " 'My Beautiful Dark Twisted Fantasy',\n",
       " 'My Beautiful Dark Twisted Fantasy',\n",
       " 'Graduation']"
      ]
     },
     "execution_count": 6,
     "metadata": {},
     "output_type": "execute_result"
    }
   ],
   "source": [
    "# Example of getting all the album based on one simple rapper name input\n",
    "artist_name = 'Kanye West'\n",
    "album_names, album_name_uri_dict, album_img_url_dict = get_album_details(sp=sp, artist_name=artist_name)\n",
    "album_names"
   ]
  },
  {
   "cell_type": "code",
   "execution_count": 7,
   "metadata": {},
   "outputs": [
    {
     "name": "stdout",
     "output_type": "stream",
     "text": [
      "['Donda (Deluxe)', 'Donda', 'JESUS IS KING', 'KIDS SEE GHOSTS', 'ye', 'The Life Of Pablo', 'The Life Of Pablo', 'Yeezus', 'Kanye West Presents Good Music Cruel Summer', 'Watch The Throne (Deluxe)', 'Watch The Throne (Deluxe)', 'Watch The Throne (Deluxe)', 'Watch The Throne (Deluxe)', 'Watch The Throne', 'Watch The Throne', 'Watch The Throne', 'Watch The Throne', 'My Beautiful Dark Twisted Fantasy', 'My Beautiful Dark Twisted Fantasy', 'Graduation', 'CALL ME IF YOU GET LOST', 'IGOR', 'Flower Boy', 'Cherry Bomb', 'Cherry Bomb + Instrumentals', 'Live At Splash!', 'Wolf', 'Goblin', 'Goblin', 'Goblin', 'Goblin', 'Beam Me Up Scotty', 'Queen (Deluxe)', 'Queen (Deluxe)', 'Queen', 'Queen', 'Queen', 'Queen', 'The Pinkprint (Deluxe Edition)', 'The Pinkprint (Deluxe Edition)', 'The Pinkprint (International Deluxe Explicit)', 'The Pinkprint (Deluxe)', 'The Pinkprint (Deluxe)', 'The Pinkprint (Deluxe)', 'The Pinkprint', 'The Pinkprint', 'Pink Friday ... Roman Reloaded (Deluxe Edition)', 'Pink Friday ... Roman Reloaded (Deluxe Edition)', 'Pink Friday: Roman Reloaded The Re-Up (Explicit Version)', 'Pink Friday: Roman Reloaded The Re-Up', 'Pink Friday: Roman Reloaded The Re-Up', '4:44', '4:44', 'Magna Carta... Holy Grail', 'Magna Carta... Holy Grail', 'Magna Carta... Holy Grail', 'Magna Carta... Holy Grail', 'Magna Carta... Holy Grail', 'Watch The Throne (Deluxe)', 'Watch The Throne (Deluxe)', 'Watch The Throne (Deluxe)', 'Watch The Throne (Deluxe)', 'Watch The Throne', 'Watch The Throne', 'Watch The Throne', 'Watch The Throne', \"The Blueprint Collector's Edition (Explicit Version)\", 'The Blueprint 3', 'The Blueprint 3', 'American Gangster', 'American Gangster', 'Certified Lover Boy', 'Certified Lover Boy', 'Dark Lane Demo Tapes', 'Dark Lane Demo Tapes', 'Care Package', 'Care Package', 'So Far Gone', 'Scorpion', 'Scorpion', 'More Life', 'More Life', 'Views', 'Views', 'What A Time To Be Alive', 'What A Time To Be Alive', \"If You're Reading This It's Too Late\", \"If You're Reading This It's Too Late\", 'Nothing Was The Same (Deluxe)', 'Nothing Was The Same (Deluxe)', 'Nothing Was The Same (Deluxe)', 'The Off-Season', 'The Off-Season', \"Revenge Of The Dreamers III: Director's Cut\", \"Revenge Of The Dreamers III: Director's Cut\", 'Revenge Of The Dreamers III', 'Revenge Of The Dreamers III', 'KOD', 'KOD', '4 Your Eyez Only', '4 Your Eyez Only', 'Forest Hills Drive: Live from Fayetteville, NC', '2014 Forest Hills Drive', '2014 Forest Hills Drive', 'The Blow Up', 'Born Sinner (Deluxe Version)', 'Born Sinner', 'Born Sinner', 'Cole World: The Sideline Story', 'Cole World: The Sideline Story', 'The Come Up', 'Certified Lover Boy', 'Certified Lover Boy', 'Dark Lane Demo Tapes', 'Dark Lane Demo Tapes', 'Care Package', 'Care Package', 'So Far Gone', 'Scorpion', 'Scorpion', 'More Life', 'More Life', 'Views', 'Views', 'What A Time To Be Alive', 'What A Time To Be Alive', \"If You're Reading This It's Too Late\", \"If You're Reading This It's Too Late\", 'Nothing Was The Same (Deluxe)', 'Nothing Was The Same (Deluxe)', 'Nothing Was The Same (Deluxe)', 'Donda (Deluxe)', 'Donda', 'JESUS IS KING', 'KIDS SEE GHOSTS', 'ye', 'The Life Of Pablo', 'The Life Of Pablo', 'Yeezus', 'Kanye West Presents Good Music Cruel Summer', 'Watch The Throne (Deluxe)', 'Watch The Throne (Deluxe)', 'Watch The Throne (Deluxe)', 'Watch The Throne (Deluxe)', 'Watch The Throne', 'Watch The Throne', 'Watch The Throne', 'Watch The Throne', 'My Beautiful Dark Twisted Fantasy', 'My Beautiful Dark Twisted Fantasy', 'Graduation', 'The Melodic Blue', 'The Melodic Blue', 'DIE FOR MY BITCH', 'The Sound of Bad Habit', 'Certified Lover Boy', 'Certified Lover Boy', 'Dark Lane Demo Tapes', 'Dark Lane Demo Tapes', 'Care Package', 'Care Package', 'So Far Gone', 'Scorpion', 'Scorpion', 'More Life', 'More Life', 'Views', 'Views', 'What A Time To Be Alive', 'What A Time To Be Alive', \"If You're Reading This It's Too Late\", \"If You're Reading This It's Too Late\", 'Nothing Was The Same (Deluxe)', 'Nothing Was The Same (Deluxe)', 'Nothing Was The Same (Deluxe)']\n"
     ]
    }
   ],
   "source": [
    "# inporting all the rappers' albums into this big list\n",
    "# however, lots of Deluxe version could create bugs, so we need later filtering them out\n",
    "allalbumlist=[]\n",
    "for rapper in rapperlist:\n",
    "    artist_name = rapper\n",
    "    album_names, album_name_uri_dict, album_img_url_dict = get_album_details(sp=sp, artist_name=artist_name)\n",
    "    allalbumlist=allalbumlist+album_names\n",
    "print(allalbumlist)\n",
    "    "
   ]
  },
  {
   "cell_type": "code",
   "execution_count": 8,
   "metadata": {},
   "outputs": [
    {
     "name": "stdout",
     "output_type": "stream",
     "text": [
      "['Donda', 'JESUS IS KING', 'KIDS SEE GHOSTS', 'ye', 'The Life Of Pablo', 'Yeezus', 'Kanye West Presents Good Music Cruel Summer', 'Watch The Throne', 'My Beautiful Dark Twisted Fantasy', 'Graduation', 'CALL ME IF YOU GET LOST', 'IGOR', 'Flower Boy', 'Cherry Bomb', 'Cherry Bomb + Instrumentals', 'Live At Splash!', 'Wolf', 'Goblin', 'Beam Me Up Scotty', 'Queen', 'The Pinkprint (International Deluxe Explicit)', 'The Pinkprint', 'Pink Friday: Roman Reloaded The Re-Up (Explicit Version)', 'Pink Friday: Roman Reloaded The Re-Up', '4:44', 'Magna Carta... Holy Grail', \"The Blueprint Collector's Edition (Explicit Version)\", 'The Blueprint 3', 'American Gangster', 'Certified Lover Boy', 'Dark Lane Demo Tapes', 'Care Package', 'So Far Gone', 'Scorpion', 'More Life', 'Views', 'What A Time To Be Alive', \"If You're Reading This It's Too Late\", 'The Off-Season', \"Revenge Of The Dreamers III: Director's Cut\", 'Revenge Of The Dreamers III', 'KOD', '4 Your Eyez Only', 'Forest Hills Drive: Live from Fayetteville, NC', '2014 Forest Hills Drive', 'The Blow Up', 'Born Sinner', 'Cole World: The Sideline Story', 'The Come Up', 'The Melodic Blue', 'DIE FOR MY BITCH', 'The Sound of Bad Habit']\n"
     ]
    }
   ],
   "source": [
    "# creating the new allput where all the deluxe version are filtered out, only the origional left\n",
    "output = []\n",
    "for x in allalbumlist:\n",
    "    if x not in output:\n",
    "        output.append(x)\n",
    "#print(output)\n",
    "\n",
    "matches = []\n",
    " \n",
    "for match in output:\n",
    "    if \"Deluxe\" in match:\n",
    "        matches.append(match)\n",
    " \n",
    "#print(matches)\n",
    "\n",
    "for rem in output:\n",
    "    if rem in matches:\n",
    "        output.remove(rem)\n",
    "print(output)\n"
   ]
  },
  {
   "cell_type": "code",
   "execution_count": 9,
   "metadata": {},
   "outputs": [
    {
     "name": "stdout",
     "output_type": "stream",
     "text": [
      "Searching for \"Donda\"...\n",
      "Lyrics_Donda.json already exists. Overwrite?\n",
      "(y/n): y\n",
      "Wrote Lyrics_Donda.json.\n",
      "Searching for \"JESUS IS KING\"...\n",
      "Lyrics_JESUSISKING.json already exists. Overwrite?\n",
      "(y/n): y\n",
      "Wrote Lyrics_JESUSISKING.json.\n",
      "Searching for \"KIDS SEE GHOSTS\"...\n",
      "Lyrics_KIDSSEEGHOSTS.json already exists. Overwrite?\n",
      "(y/n): y\n",
      "Wrote Lyrics_KIDSSEEGHOSTS.json.\n",
      "Searching for \"ye\"...\n",
      "Lyrics_ye.json already exists. Overwrite?\n",
      "(y/n): y\n",
      "Wrote Lyrics_ye.json.\n",
      "Searching for \"The Life Of Pablo\"...\n",
      "Lyrics_TheLifeofPablo.json already exists. Overwrite?\n",
      "(y/n): y\n",
      "Wrote Lyrics_TheLifeofPablo.json.\n",
      "Searching for \"Yeezus\"...\n",
      "Lyrics_Yeezus.json already exists. Overwrite?\n",
      "(y/n): y\n",
      "Wrote Lyrics_Yeezus.json.\n",
      "Searching for \"Kanye West Presents Good Music Cruel Summer\"...\n",
      "Lyrics_KanyeWestPresentsGoodMusicCruelSummer.json already exists. Overwrite?\n",
      "(y/n): y\n",
      "Wrote Lyrics_KanyeWestPresentsGoodMusicCruelSummer.json.\n",
      "Searching for \"Watch The Throne\"...\n"
     ]
    },
    {
     "ename": "KeyboardInterrupt",
     "evalue": "",
     "output_type": "error",
     "traceback": [
      "\u001b[1;31m---------------------------------------------------------------------------\u001b[0m",
      "\u001b[1;31mKeyboardInterrupt\u001b[0m                         Traceback (most recent call last)",
      "\u001b[1;32m<ipython-input-9-ff6c4eac2a86>\u001b[0m in \u001b[0;36m<module>\u001b[1;34m\u001b[0m\n\u001b[0;32m      1\u001b[0m \u001b[1;32mfor\u001b[0m \u001b[0mi\u001b[0m \u001b[1;32min\u001b[0m \u001b[0moutput\u001b[0m\u001b[1;33m:\u001b[0m\u001b[1;33m\u001b[0m\u001b[1;33m\u001b[0m\u001b[0m\n\u001b[1;32m----> 2\u001b[1;33m     \u001b[0malbum\u001b[0m \u001b[1;33m=\u001b[0m \u001b[0mgenius\u001b[0m\u001b[1;33m.\u001b[0m\u001b[0msearch_album\u001b[0m\u001b[1;33m(\u001b[0m\u001b[0mi\u001b[0m\u001b[1;33m)\u001b[0m\u001b[1;33m\u001b[0m\u001b[1;33m\u001b[0m\u001b[0m\n\u001b[0m\u001b[0;32m      3\u001b[0m     \u001b[0malbum\u001b[0m\u001b[1;33m.\u001b[0m\u001b[0msave_lyrics\u001b[0m\u001b[1;33m(\u001b[0m\u001b[0mextension\u001b[0m\u001b[1;33m=\u001b[0m\u001b[1;34m'json'\u001b[0m\u001b[1;33m)\u001b[0m\u001b[1;33m\u001b[0m\u001b[1;33m\u001b[0m\u001b[0m\n",
      "\u001b[1;32mD:\\anaconda\\lib\\site-packages\\lyricsgenius\\genius.py\u001b[0m in \u001b[0;36msearch_album\u001b[1;34m(self, name, artist, album_id, get_full_info, text_format)\u001b[0m\n\u001b[0;32m    341\u001b[0m                 if (song_info['lyrics_state'] == 'complete'\n\u001b[0;32m    342\u001b[0m                         and not song_info.get('instrumental')):\n\u001b[1;32m--> 343\u001b[1;33m                     \u001b[0msong_lyrics\u001b[0m \u001b[1;33m=\u001b[0m \u001b[0mself\u001b[0m\u001b[1;33m.\u001b[0m\u001b[0mlyrics\u001b[0m\u001b[1;33m(\u001b[0m\u001b[0msong_url\u001b[0m\u001b[1;33m=\u001b[0m\u001b[0msong_info\u001b[0m\u001b[1;33m[\u001b[0m\u001b[1;34m'url'\u001b[0m\u001b[1;33m]\u001b[0m\u001b[1;33m)\u001b[0m\u001b[1;33m\u001b[0m\u001b[1;33m\u001b[0m\u001b[0m\n\u001b[0m\u001b[0;32m    344\u001b[0m                 \u001b[1;32melse\u001b[0m\u001b[1;33m:\u001b[0m\u001b[1;33m\u001b[0m\u001b[1;33m\u001b[0m\u001b[0m\n\u001b[0;32m    345\u001b[0m                     \u001b[0msong_lyrics\u001b[0m \u001b[1;33m=\u001b[0m \u001b[1;34m\"\"\u001b[0m\u001b[1;33m\u001b[0m\u001b[1;33m\u001b[0m\u001b[0m\n",
      "\u001b[1;32mD:\\anaconda\\lib\\site-packages\\lyricsgenius\\genius.py\u001b[0m in \u001b[0;36mlyrics\u001b[1;34m(self, song_id, song_url, remove_section_headers)\u001b[0m\n\u001b[0;32m    129\u001b[0m \u001b[1;33m\u001b[0m\u001b[0m\n\u001b[0;32m    130\u001b[0m         \u001b[1;31m# Scrape the song lyrics from the HTML\u001b[0m\u001b[1;33m\u001b[0m\u001b[1;33m\u001b[0m\u001b[1;33m\u001b[0m\u001b[0m\n\u001b[1;32m--> 131\u001b[1;33m         html = BeautifulSoup(\n\u001b[0m\u001b[0;32m    132\u001b[0m             \u001b[0mself\u001b[0m\u001b[1;33m.\u001b[0m\u001b[0m_make_request\u001b[0m\u001b[1;33m(\u001b[0m\u001b[0mpath\u001b[0m\u001b[1;33m,\u001b[0m \u001b[0mweb\u001b[0m\u001b[1;33m=\u001b[0m\u001b[1;32mTrue\u001b[0m\u001b[1;33m)\u001b[0m\u001b[1;33m.\u001b[0m\u001b[0mreplace\u001b[0m\u001b[1;33m(\u001b[0m\u001b[1;34m'<br/>'\u001b[0m\u001b[1;33m,\u001b[0m \u001b[1;34m'\\n'\u001b[0m\u001b[1;33m)\u001b[0m\u001b[1;33m,\u001b[0m\u001b[1;33m\u001b[0m\u001b[1;33m\u001b[0m\u001b[0m\n\u001b[0;32m    133\u001b[0m             \u001b[1;34m\"html.parser\"\u001b[0m\u001b[1;33m\u001b[0m\u001b[1;33m\u001b[0m\u001b[0m\n",
      "\u001b[1;32mD:\\anaconda\\lib\\site-packages\\bs4\\__init__.py\u001b[0m in \u001b[0;36m__init__\u001b[1;34m(self, markup, features, builder, parse_only, from_encoding, exclude_encodings, element_classes, **kwargs)\u001b[0m\n\u001b[0;32m    346\u001b[0m             \u001b[0mself\u001b[0m\u001b[1;33m.\u001b[0m\u001b[0mreset\u001b[0m\u001b[1;33m(\u001b[0m\u001b[1;33m)\u001b[0m\u001b[1;33m\u001b[0m\u001b[1;33m\u001b[0m\u001b[0m\n\u001b[0;32m    347\u001b[0m             \u001b[1;32mtry\u001b[0m\u001b[1;33m:\u001b[0m\u001b[1;33m\u001b[0m\u001b[1;33m\u001b[0m\u001b[0m\n\u001b[1;32m--> 348\u001b[1;33m                 \u001b[0mself\u001b[0m\u001b[1;33m.\u001b[0m\u001b[0m_feed\u001b[0m\u001b[1;33m(\u001b[0m\u001b[1;33m)\u001b[0m\u001b[1;33m\u001b[0m\u001b[1;33m\u001b[0m\u001b[0m\n\u001b[0m\u001b[0;32m    349\u001b[0m                 \u001b[0msuccess\u001b[0m \u001b[1;33m=\u001b[0m \u001b[1;32mTrue\u001b[0m\u001b[1;33m\u001b[0m\u001b[1;33m\u001b[0m\u001b[0m\n\u001b[0;32m    350\u001b[0m                 \u001b[1;32mbreak\u001b[0m\u001b[1;33m\u001b[0m\u001b[1;33m\u001b[0m\u001b[0m\n",
      "\u001b[1;32mD:\\anaconda\\lib\\site-packages\\bs4\\__init__.py\u001b[0m in \u001b[0;36m_feed\u001b[1;34m(self)\u001b[0m\n\u001b[0;32m    432\u001b[0m         \u001b[0mself\u001b[0m\u001b[1;33m.\u001b[0m\u001b[0mbuilder\u001b[0m\u001b[1;33m.\u001b[0m\u001b[0mreset\u001b[0m\u001b[1;33m(\u001b[0m\u001b[1;33m)\u001b[0m\u001b[1;33m\u001b[0m\u001b[1;33m\u001b[0m\u001b[0m\n\u001b[0;32m    433\u001b[0m \u001b[1;33m\u001b[0m\u001b[0m\n\u001b[1;32m--> 434\u001b[1;33m         \u001b[0mself\u001b[0m\u001b[1;33m.\u001b[0m\u001b[0mbuilder\u001b[0m\u001b[1;33m.\u001b[0m\u001b[0mfeed\u001b[0m\u001b[1;33m(\u001b[0m\u001b[0mself\u001b[0m\u001b[1;33m.\u001b[0m\u001b[0mmarkup\u001b[0m\u001b[1;33m)\u001b[0m\u001b[1;33m\u001b[0m\u001b[1;33m\u001b[0m\u001b[0m\n\u001b[0m\u001b[0;32m    435\u001b[0m         \u001b[1;31m# Close out any unfinished strings and close all the open tags.\u001b[0m\u001b[1;33m\u001b[0m\u001b[1;33m\u001b[0m\u001b[1;33m\u001b[0m\u001b[0m\n\u001b[0;32m    436\u001b[0m         \u001b[0mself\u001b[0m\u001b[1;33m.\u001b[0m\u001b[0mendData\u001b[0m\u001b[1;33m(\u001b[0m\u001b[1;33m)\u001b[0m\u001b[1;33m\u001b[0m\u001b[1;33m\u001b[0m\u001b[0m\n",
      "\u001b[1;32mD:\\anaconda\\lib\\site-packages\\bs4\\builder\\_htmlparser.py\u001b[0m in \u001b[0;36mfeed\u001b[1;34m(self, markup)\u001b[0m\n\u001b[0;32m    375\u001b[0m         \u001b[0mparser\u001b[0m\u001b[1;33m.\u001b[0m\u001b[0msoup\u001b[0m \u001b[1;33m=\u001b[0m \u001b[0mself\u001b[0m\u001b[1;33m.\u001b[0m\u001b[0msoup\u001b[0m\u001b[1;33m\u001b[0m\u001b[1;33m\u001b[0m\u001b[0m\n\u001b[0;32m    376\u001b[0m         \u001b[1;32mtry\u001b[0m\u001b[1;33m:\u001b[0m\u001b[1;33m\u001b[0m\u001b[1;33m\u001b[0m\u001b[0m\n\u001b[1;32m--> 377\u001b[1;33m             \u001b[0mparser\u001b[0m\u001b[1;33m.\u001b[0m\u001b[0mfeed\u001b[0m\u001b[1;33m(\u001b[0m\u001b[0mmarkup\u001b[0m\u001b[1;33m)\u001b[0m\u001b[1;33m\u001b[0m\u001b[1;33m\u001b[0m\u001b[0m\n\u001b[0m\u001b[0;32m    378\u001b[0m             \u001b[0mparser\u001b[0m\u001b[1;33m.\u001b[0m\u001b[0mclose\u001b[0m\u001b[1;33m(\u001b[0m\u001b[1;33m)\u001b[0m\u001b[1;33m\u001b[0m\u001b[1;33m\u001b[0m\u001b[0m\n\u001b[0;32m    379\u001b[0m         \u001b[1;32mexcept\u001b[0m \u001b[0mHTMLParseError\u001b[0m \u001b[1;32mas\u001b[0m \u001b[0me\u001b[0m\u001b[1;33m:\u001b[0m\u001b[1;33m\u001b[0m\u001b[1;33m\u001b[0m\u001b[0m\n",
      "\u001b[1;32mD:\\anaconda\\lib\\html\\parser.py\u001b[0m in \u001b[0;36mfeed\u001b[1;34m(self, data)\u001b[0m\n\u001b[0;32m    109\u001b[0m         \"\"\"\n\u001b[0;32m    110\u001b[0m         \u001b[0mself\u001b[0m\u001b[1;33m.\u001b[0m\u001b[0mrawdata\u001b[0m \u001b[1;33m=\u001b[0m \u001b[0mself\u001b[0m\u001b[1;33m.\u001b[0m\u001b[0mrawdata\u001b[0m \u001b[1;33m+\u001b[0m \u001b[0mdata\u001b[0m\u001b[1;33m\u001b[0m\u001b[1;33m\u001b[0m\u001b[0m\n\u001b[1;32m--> 111\u001b[1;33m         \u001b[0mself\u001b[0m\u001b[1;33m.\u001b[0m\u001b[0mgoahead\u001b[0m\u001b[1;33m(\u001b[0m\u001b[1;36m0\u001b[0m\u001b[1;33m)\u001b[0m\u001b[1;33m\u001b[0m\u001b[1;33m\u001b[0m\u001b[0m\n\u001b[0m\u001b[0;32m    112\u001b[0m \u001b[1;33m\u001b[0m\u001b[0m\n\u001b[0;32m    113\u001b[0m     \u001b[1;32mdef\u001b[0m \u001b[0mclose\u001b[0m\u001b[1;33m(\u001b[0m\u001b[0mself\u001b[0m\u001b[1;33m)\u001b[0m\u001b[1;33m:\u001b[0m\u001b[1;33m\u001b[0m\u001b[1;33m\u001b[0m\u001b[0m\n",
      "\u001b[1;32mD:\\anaconda\\lib\\html\\parser.py\u001b[0m in \u001b[0;36mgoahead\u001b[1;34m(self, end)\u001b[0m\n\u001b[0;32m    169\u001b[0m             \u001b[1;32mif\u001b[0m \u001b[0mstartswith\u001b[0m\u001b[1;33m(\u001b[0m\u001b[1;34m'<'\u001b[0m\u001b[1;33m,\u001b[0m \u001b[0mi\u001b[0m\u001b[1;33m)\u001b[0m\u001b[1;33m:\u001b[0m\u001b[1;33m\u001b[0m\u001b[1;33m\u001b[0m\u001b[0m\n\u001b[0;32m    170\u001b[0m                 \u001b[1;32mif\u001b[0m \u001b[0mstarttagopen\u001b[0m\u001b[1;33m.\u001b[0m\u001b[0mmatch\u001b[0m\u001b[1;33m(\u001b[0m\u001b[0mrawdata\u001b[0m\u001b[1;33m,\u001b[0m \u001b[0mi\u001b[0m\u001b[1;33m)\u001b[0m\u001b[1;33m:\u001b[0m \u001b[1;31m# < + letter\u001b[0m\u001b[1;33m\u001b[0m\u001b[1;33m\u001b[0m\u001b[0m\n\u001b[1;32m--> 171\u001b[1;33m                     \u001b[0mk\u001b[0m \u001b[1;33m=\u001b[0m \u001b[0mself\u001b[0m\u001b[1;33m.\u001b[0m\u001b[0mparse_starttag\u001b[0m\u001b[1;33m(\u001b[0m\u001b[0mi\u001b[0m\u001b[1;33m)\u001b[0m\u001b[1;33m\u001b[0m\u001b[1;33m\u001b[0m\u001b[0m\n\u001b[0m\u001b[0;32m    172\u001b[0m                 \u001b[1;32melif\u001b[0m \u001b[0mstartswith\u001b[0m\u001b[1;33m(\u001b[0m\u001b[1;34m\"</\"\u001b[0m\u001b[1;33m,\u001b[0m \u001b[0mi\u001b[0m\u001b[1;33m)\u001b[0m\u001b[1;33m:\u001b[0m\u001b[1;33m\u001b[0m\u001b[1;33m\u001b[0m\u001b[0m\n\u001b[0;32m    173\u001b[0m                     \u001b[0mk\u001b[0m \u001b[1;33m=\u001b[0m \u001b[0mself\u001b[0m\u001b[1;33m.\u001b[0m\u001b[0mparse_endtag\u001b[0m\u001b[1;33m(\u001b[0m\u001b[0mi\u001b[0m\u001b[1;33m)\u001b[0m\u001b[1;33m\u001b[0m\u001b[1;33m\u001b[0m\u001b[0m\n",
      "\u001b[1;32mD:\\anaconda\\lib\\html\\parser.py\u001b[0m in \u001b[0;36mparse_starttag\u001b[1;34m(self, i)\u001b[0m\n\u001b[0;32m    343\u001b[0m             \u001b[0mself\u001b[0m\u001b[1;33m.\u001b[0m\u001b[0mhandle_startendtag\u001b[0m\u001b[1;33m(\u001b[0m\u001b[0mtag\u001b[0m\u001b[1;33m,\u001b[0m \u001b[0mattrs\u001b[0m\u001b[1;33m)\u001b[0m\u001b[1;33m\u001b[0m\u001b[1;33m\u001b[0m\u001b[0m\n\u001b[0;32m    344\u001b[0m         \u001b[1;32melse\u001b[0m\u001b[1;33m:\u001b[0m\u001b[1;33m\u001b[0m\u001b[1;33m\u001b[0m\u001b[0m\n\u001b[1;32m--> 345\u001b[1;33m             \u001b[0mself\u001b[0m\u001b[1;33m.\u001b[0m\u001b[0mhandle_starttag\u001b[0m\u001b[1;33m(\u001b[0m\u001b[0mtag\u001b[0m\u001b[1;33m,\u001b[0m \u001b[0mattrs\u001b[0m\u001b[1;33m)\u001b[0m\u001b[1;33m\u001b[0m\u001b[1;33m\u001b[0m\u001b[0m\n\u001b[0m\u001b[0;32m    346\u001b[0m             \u001b[1;32mif\u001b[0m \u001b[0mtag\u001b[0m \u001b[1;32min\u001b[0m \u001b[0mself\u001b[0m\u001b[1;33m.\u001b[0m\u001b[0mCDATA_CONTENT_ELEMENTS\u001b[0m\u001b[1;33m:\u001b[0m\u001b[1;33m\u001b[0m\u001b[1;33m\u001b[0m\u001b[0m\n\u001b[0;32m    347\u001b[0m                 \u001b[0mself\u001b[0m\u001b[1;33m.\u001b[0m\u001b[0mset_cdata_mode\u001b[0m\u001b[1;33m(\u001b[0m\u001b[0mtag\u001b[0m\u001b[1;33m)\u001b[0m\u001b[1;33m\u001b[0m\u001b[1;33m\u001b[0m\u001b[0m\n",
      "\u001b[1;32mD:\\anaconda\\lib\\site-packages\\bs4\\builder\\_htmlparser.py\u001b[0m in \u001b[0;36mhandle_starttag\u001b[1;34m(self, name, attrs, handle_empty_element)\u001b[0m\n\u001b[0;32m    146\u001b[0m             \u001b[1;32melse\u001b[0m\u001b[1;33m:\u001b[0m\u001b[1;33m\u001b[0m\u001b[1;33m\u001b[0m\u001b[0m\n\u001b[0;32m    147\u001b[0m                 \u001b[0mattr_dict\u001b[0m\u001b[1;33m[\u001b[0m\u001b[0mkey\u001b[0m\u001b[1;33m]\u001b[0m \u001b[1;33m=\u001b[0m \u001b[0mvalue\u001b[0m\u001b[1;33m\u001b[0m\u001b[1;33m\u001b[0m\u001b[0m\n\u001b[1;32m--> 148\u001b[1;33m             \u001b[0mattrvalue\u001b[0m \u001b[1;33m=\u001b[0m \u001b[1;34m'\"\"'\u001b[0m\u001b[1;33m\u001b[0m\u001b[1;33m\u001b[0m\u001b[0m\n\u001b[0m\u001b[0;32m    149\u001b[0m         \u001b[1;31m#print(\"START\", name)\u001b[0m\u001b[1;33m\u001b[0m\u001b[1;33m\u001b[0m\u001b[1;33m\u001b[0m\u001b[0m\n\u001b[0;32m    150\u001b[0m         \u001b[0msourceline\u001b[0m\u001b[1;33m,\u001b[0m \u001b[0msourcepos\u001b[0m \u001b[1;33m=\u001b[0m \u001b[0mself\u001b[0m\u001b[1;33m.\u001b[0m\u001b[0mgetpos\u001b[0m\u001b[1;33m(\u001b[0m\u001b[1;33m)\u001b[0m\u001b[1;33m\u001b[0m\u001b[1;33m\u001b[0m\u001b[0m\n",
      "\u001b[1;31mKeyboardInterrupt\u001b[0m: "
     ]
    }
   ],
   "source": [
    "# through the for loop, all the data are stored in seperate json files, in the file, we can see all information about the album including the lyrcis\n",
    "for i in output:\n",
    "    album = genius.search_album(i)\n",
    "    album.save_lyrics(extension='json')"
   ]
  },
  {
   "cell_type": "code",
   "execution_count": null,
   "metadata": {},
   "outputs": [],
   "source": []
  },
  {
   "cell_type": "code",
   "execution_count": null,
   "metadata": {},
   "outputs": [],
   "source": []
  }
 ],
 "metadata": {
  "kernelspec": {
   "display_name": "Python 3",
   "language": "python",
   "name": "python3"
  },
  "language_info": {
   "codemirror_mode": {
    "name": "ipython",
    "version": 3
   },
   "file_extension": ".py",
   "mimetype": "text/x-python",
   "name": "python",
   "nbconvert_exporter": "python",
   "pygments_lexer": "ipython3",
   "version": "3.8.5"
  }
 },
 "nbformat": 4,
 "nbformat_minor": 4
}
